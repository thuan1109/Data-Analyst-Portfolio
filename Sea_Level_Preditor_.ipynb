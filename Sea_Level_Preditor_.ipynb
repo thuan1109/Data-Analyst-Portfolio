{
  "nbformat": 4,
  "nbformat_minor": 0,
  "metadata": {
    "colab": {
      "provenance": [],
      "authorship_tag": "ABX9TyNbmm4+EB9UOHoVM6KYpICt",
      "include_colab_link": true
    },
    "kernelspec": {
      "name": "python3",
      "display_name": "Python 3"
    },
    "language_info": {
      "name": "python"
    }
  },
  "cells": [
    {
      "cell_type": "markdown",
      "metadata": {
        "id": "view-in-github",
        "colab_type": "text"
      },
      "source": [
        "<a href=\"https://colab.research.google.com/github/thuan1109/Data-Analyst-Portfolio/blob/main/Sea_Level_Preditor_.ipynb\" target=\"_parent\"><img src=\"https://colab.research.google.com/assets/colab-badge.svg\" alt=\"Open In Colab\"/></a>"
      ]
    },
    {
      "cell_type": "markdown",
      "source": [
        "Hello Everyone! I'm a beginner and I try my best to do data analysis. This Sea Level Dataset is a very good dataset to begin with and I hope you can understand my analysis.\n",
        "**Table of Content**\n",
        "\n",
        "\n",
        "1.   Basic Analysis\n",
        "\n",
        "2.   Data Visualisation\n",
        "\n",
        "\n",
        "\n",
        "\n",
        "# Basic Analysis\n",
        "\n",
        "\n"
      ],
      "metadata": {
        "id": "bAb0aB49u9By"
      }
    },
    {
      "cell_type": "code",
      "execution_count": 5,
      "metadata": {
        "id": "7TZ0A3a1ubqz"
      },
      "outputs": [],
      "source": [
        "#importing all important packages\n",
        "import numpy as np #linear algebra\n",
        "import pandas as pd #data processing\n",
        "from scipy.stats import linregress #linear regression  \n",
        "import matplotlib.pyplot as plt #data visualisation\n",
        "import seaborn as sns #data visualisation\n",
        "%matplotlib inline"
      ]
    },
    {
      "cell_type": "code",
      "source": [
        "#Input Data\n",
        "data = pd.read_csv(\"/content/epa-sea-level.csv\") #reading csv file and save it into a variable\n",
        "data.head(10) #show the first 10 rows in data\n",
        "x = data['Year']\n",
        "y = data['CSIRO Adjusted Sea Level']\n"
      ],
      "metadata": {
        "colab": {
          "base_uri": "https://localhost:8080/",
          "height": 362
        },
        "id": "MVBYfFXGxcaq",
        "outputId": "553c1256-abfe-4aa8-f69f-3317975a73bf"
      },
      "execution_count": 4,
      "outputs": [
        {
          "output_type": "execute_result",
          "data": {
            "text/plain": [
              "   Year  CSIRO Adjusted Sea Level  Lower Error Bound  Upper Error Bound  \\\n",
              "0  1880                  0.000000          -0.952756           0.952756   \n",
              "1  1881                  0.220472          -0.732283           1.173228   \n",
              "2  1882                 -0.440945          -1.346457           0.464567   \n",
              "3  1883                 -0.232283          -1.129921           0.665354   \n",
              "4  1884                  0.590551          -0.283465           1.464567   \n",
              "5  1885                  0.531496          -0.330709           1.393701   \n",
              "6  1886                  0.437008          -0.381890           1.255906   \n",
              "7  1887                  0.216535          -0.602362           1.035433   \n",
              "8  1888                  0.299213          -0.519685           1.118110   \n",
              "9  1889                  0.362205          -0.456693           1.181102   \n",
              "\n",
              "   NOAA Adjusted Sea Level  \n",
              "0                      NaN  \n",
              "1                      NaN  \n",
              "2                      NaN  \n",
              "3                      NaN  \n",
              "4                      NaN  \n",
              "5                      NaN  \n",
              "6                      NaN  \n",
              "7                      NaN  \n",
              "8                      NaN  \n",
              "9                      NaN  "
            ],
            "text/html": [
              "\n",
              "  <div id=\"df-5e73cbe2-33c1-4464-8d4c-28e8eacc137c\">\n",
              "    <div class=\"colab-df-container\">\n",
              "      <div>\n",
              "<style scoped>\n",
              "    .dataframe tbody tr th:only-of-type {\n",
              "        vertical-align: middle;\n",
              "    }\n",
              "\n",
              "    .dataframe tbody tr th {\n",
              "        vertical-align: top;\n",
              "    }\n",
              "\n",
              "    .dataframe thead th {\n",
              "        text-align: right;\n",
              "    }\n",
              "</style>\n",
              "<table border=\"1\" class=\"dataframe\">\n",
              "  <thead>\n",
              "    <tr style=\"text-align: right;\">\n",
              "      <th></th>\n",
              "      <th>Year</th>\n",
              "      <th>CSIRO Adjusted Sea Level</th>\n",
              "      <th>Lower Error Bound</th>\n",
              "      <th>Upper Error Bound</th>\n",
              "      <th>NOAA Adjusted Sea Level</th>\n",
              "    </tr>\n",
              "  </thead>\n",
              "  <tbody>\n",
              "    <tr>\n",
              "      <th>0</th>\n",
              "      <td>1880</td>\n",
              "      <td>0.000000</td>\n",
              "      <td>-0.952756</td>\n",
              "      <td>0.952756</td>\n",
              "      <td>NaN</td>\n",
              "    </tr>\n",
              "    <tr>\n",
              "      <th>1</th>\n",
              "      <td>1881</td>\n",
              "      <td>0.220472</td>\n",
              "      <td>-0.732283</td>\n",
              "      <td>1.173228</td>\n",
              "      <td>NaN</td>\n",
              "    </tr>\n",
              "    <tr>\n",
              "      <th>2</th>\n",
              "      <td>1882</td>\n",
              "      <td>-0.440945</td>\n",
              "      <td>-1.346457</td>\n",
              "      <td>0.464567</td>\n",
              "      <td>NaN</td>\n",
              "    </tr>\n",
              "    <tr>\n",
              "      <th>3</th>\n",
              "      <td>1883</td>\n",
              "      <td>-0.232283</td>\n",
              "      <td>-1.129921</td>\n",
              "      <td>0.665354</td>\n",
              "      <td>NaN</td>\n",
              "    </tr>\n",
              "    <tr>\n",
              "      <th>4</th>\n",
              "      <td>1884</td>\n",
              "      <td>0.590551</td>\n",
              "      <td>-0.283465</td>\n",
              "      <td>1.464567</td>\n",
              "      <td>NaN</td>\n",
              "    </tr>\n",
              "    <tr>\n",
              "      <th>5</th>\n",
              "      <td>1885</td>\n",
              "      <td>0.531496</td>\n",
              "      <td>-0.330709</td>\n",
              "      <td>1.393701</td>\n",
              "      <td>NaN</td>\n",
              "    </tr>\n",
              "    <tr>\n",
              "      <th>6</th>\n",
              "      <td>1886</td>\n",
              "      <td>0.437008</td>\n",
              "      <td>-0.381890</td>\n",
              "      <td>1.255906</td>\n",
              "      <td>NaN</td>\n",
              "    </tr>\n",
              "    <tr>\n",
              "      <th>7</th>\n",
              "      <td>1887</td>\n",
              "      <td>0.216535</td>\n",
              "      <td>-0.602362</td>\n",
              "      <td>1.035433</td>\n",
              "      <td>NaN</td>\n",
              "    </tr>\n",
              "    <tr>\n",
              "      <th>8</th>\n",
              "      <td>1888</td>\n",
              "      <td>0.299213</td>\n",
              "      <td>-0.519685</td>\n",
              "      <td>1.118110</td>\n",
              "      <td>NaN</td>\n",
              "    </tr>\n",
              "    <tr>\n",
              "      <th>9</th>\n",
              "      <td>1889</td>\n",
              "      <td>0.362205</td>\n",
              "      <td>-0.456693</td>\n",
              "      <td>1.181102</td>\n",
              "      <td>NaN</td>\n",
              "    </tr>\n",
              "  </tbody>\n",
              "</table>\n",
              "</div>\n",
              "      <button class=\"colab-df-convert\" onclick=\"convertToInteractive('df-5e73cbe2-33c1-4464-8d4c-28e8eacc137c')\"\n",
              "              title=\"Convert this dataframe to an interactive table.\"\n",
              "              style=\"display:none;\">\n",
              "        \n",
              "  <svg xmlns=\"http://www.w3.org/2000/svg\" height=\"24px\"viewBox=\"0 0 24 24\"\n",
              "       width=\"24px\">\n",
              "    <path d=\"M0 0h24v24H0V0z\" fill=\"none\"/>\n",
              "    <path d=\"M18.56 5.44l.94 2.06.94-2.06 2.06-.94-2.06-.94-.94-2.06-.94 2.06-2.06.94zm-11 1L8.5 8.5l.94-2.06 2.06-.94-2.06-.94L8.5 2.5l-.94 2.06-2.06.94zm10 10l.94 2.06.94-2.06 2.06-.94-2.06-.94-.94-2.06-.94 2.06-2.06.94z\"/><path d=\"M17.41 7.96l-1.37-1.37c-.4-.4-.92-.59-1.43-.59-.52 0-1.04.2-1.43.59L10.3 9.45l-7.72 7.72c-.78.78-.78 2.05 0 2.83L4 21.41c.39.39.9.59 1.41.59.51 0 1.02-.2 1.41-.59l7.78-7.78 2.81-2.81c.8-.78.8-2.07 0-2.86zM5.41 20L4 18.59l7.72-7.72 1.47 1.35L5.41 20z\"/>\n",
              "  </svg>\n",
              "      </button>\n",
              "      \n",
              "  <style>\n",
              "    .colab-df-container {\n",
              "      display:flex;\n",
              "      flex-wrap:wrap;\n",
              "      gap: 12px;\n",
              "    }\n",
              "\n",
              "    .colab-df-convert {\n",
              "      background-color: #E8F0FE;\n",
              "      border: none;\n",
              "      border-radius: 50%;\n",
              "      cursor: pointer;\n",
              "      display: none;\n",
              "      fill: #1967D2;\n",
              "      height: 32px;\n",
              "      padding: 0 0 0 0;\n",
              "      width: 32px;\n",
              "    }\n",
              "\n",
              "    .colab-df-convert:hover {\n",
              "      background-color: #E2EBFA;\n",
              "      box-shadow: 0px 1px 2px rgba(60, 64, 67, 0.3), 0px 1px 3px 1px rgba(60, 64, 67, 0.15);\n",
              "      fill: #174EA6;\n",
              "    }\n",
              "\n",
              "    [theme=dark] .colab-df-convert {\n",
              "      background-color: #3B4455;\n",
              "      fill: #D2E3FC;\n",
              "    }\n",
              "\n",
              "    [theme=dark] .colab-df-convert:hover {\n",
              "      background-color: #434B5C;\n",
              "      box-shadow: 0px 1px 3px 1px rgba(0, 0, 0, 0.15);\n",
              "      filter: drop-shadow(0px 1px 2px rgba(0, 0, 0, 0.3));\n",
              "      fill: #FFFFFF;\n",
              "    }\n",
              "  </style>\n",
              "\n",
              "      <script>\n",
              "        const buttonEl =\n",
              "          document.querySelector('#df-5e73cbe2-33c1-4464-8d4c-28e8eacc137c button.colab-df-convert');\n",
              "        buttonEl.style.display =\n",
              "          google.colab.kernel.accessAllowed ? 'block' : 'none';\n",
              "\n",
              "        async function convertToInteractive(key) {\n",
              "          const element = document.querySelector('#df-5e73cbe2-33c1-4464-8d4c-28e8eacc137c');\n",
              "          const dataTable =\n",
              "            await google.colab.kernel.invokeFunction('convertToInteractive',\n",
              "                                                     [key], {});\n",
              "          if (!dataTable) return;\n",
              "\n",
              "          const docLinkHtml = 'Like what you see? Visit the ' +\n",
              "            '<a target=\"_blank\" href=https://colab.research.google.com/notebooks/data_table.ipynb>data table notebook</a>'\n",
              "            + ' to learn more about interactive tables.';\n",
              "          element.innerHTML = '';\n",
              "          dataTable['output_type'] = 'display_data';\n",
              "          await google.colab.output.renderOutput(dataTable, element);\n",
              "          const docLink = document.createElement('div');\n",
              "          docLink.innerHTML = docLinkHtml;\n",
              "          element.appendChild(docLink);\n",
              "        }\n",
              "      </script>\n",
              "    </div>\n",
              "  </div>\n",
              "  "
            ]
          },
          "metadata": {},
          "execution_count": 4
        }
      ]
    },
    {
      "cell_type": "markdown",
      "source": [
        "We finally know that our data has 5 columns\n",
        "\n",
        "\n",
        "*   Year :  data \n",
        "*   CSIRO Adjusted Sea Level : \n",
        "*   Lower Error Bound :\n",
        "*   Upper Error Bound :\n",
        "*   NOAA Adjusted Sea Level\n",
        "\n",
        "\n",
        "\n",
        "\n",
        "\n",
        "\n",
        "\n",
        "\n",
        "\n",
        "\n",
        "\n"
      ],
      "metadata": {
        "id": "Rn9fwn6-xTzK"
      }
    },
    {
      "cell_type": "markdown",
      "source": [
        "Use the **linregress** function from scipy.stats to get the slope and y-intercept of the line of best fit. \n",
        "\n",
        "\n",
        "--- \n",
        "Review formula of linear regression\n",
        "\n",
        "y = intercept + slope*x; x ~ year  \n",
        "\n",
        "<h2> Use data from 1880 - 2013 to find the best fit.\n",
        "<h4> Create line go through the year 2050 to predict the sea level rise in 2050\n"
      ],
      "metadata": {
        "id": "6_VH2zQv7ZGG"
      }
    },
    {
      "cell_type": "code",
      "source": [
        "#Calculate a linear least-squares regression\n",
        "res = linregress(x,y)\n",
        "\n",
        "#create first line\n",
        "x_first = range(1880, 2051)\n",
        "y_first = [res.intercept + res.slope * i for i in x_first]\n"
      ],
      "metadata": {
        "id": "S5Bch-_Y9AcO"
      },
      "execution_count": 10,
      "outputs": []
    },
    {
      "cell_type": "markdown",
      "source": [
        "<h4> Only using data from 2000 to 2013 to predict the sea level rise in 2050"
      ],
      "metadata": {
        "id": "7X158mdvBBFl"
      }
    },
    {
      "cell_type": "code",
      "source": [
        "data_recent = data[data['Year']>=2000]\n",
        "res_new = linregress(data_recent['Year'],data_recent['CSIRO Adjusted Sea Level'])\n",
        "x_second = range(2000,2051)\n",
        "y_second = [res_new.intercept + res_new.slope * i for i in x_second]"
      ],
      "metadata": {
        "id": "GEX32pGfCKtC"
      },
      "execution_count": 11,
      "outputs": []
    },
    {
      "cell_type": "markdown",
      "source": [
        "\n",
        "\n",
        "# Visualisation\n",
        "\n",
        "Create a scatter plot using the Year (1880-2013) column as the x-axis and the CSIRO Adjusted Sea Level column as the y-axis."
      ],
      "metadata": {
        "id": "39pnM0xe6Avn"
      }
    },
    {
      "cell_type": "code",
      "source": [
        "# Create scatter plot\n",
        "\n",
        "data['Year'] = data['Year'].astype(int)\n",
        "\n",
        "fig,ax = plt.subplots(1,1)\n",
        "ax.scatter(x,y)\n",
        "ax.set_xlabel('Year')\n",
        "ax.set_ylabel('Sea Level (inches)')\n",
        "ax.set_title('Rise in Sea Level')"
      ],
      "metadata": {
        "colab": {
          "base_uri": "https://localhost:8080/",
          "height": 490
        },
        "id": "MuPy6d0m48ON",
        "outputId": "ed46ee9f-d90e-4b03-c147-275e1ef625e0"
      },
      "execution_count": 24,
      "outputs": [
        {
          "output_type": "execute_result",
          "data": {
            "text/plain": [
              "Text(0.5, 1.0, 'Rise in Sea Level')"
            ]
          },
          "metadata": {},
          "execution_count": 24
        },
        {
          "output_type": "display_data",
          "data": {
            "text/plain": [
              "<Figure size 640x480 with 1 Axes>"
            ],
            "image/png": "[encoded data removed]"
          },
          "metadata": {}
        }
      ]
    },
    {
      "cell_type": "markdown",
      "source": [
        "Create first and second line to predict sea level in 2050\n"
      ],
      "metadata": {
        "id": "ZoGAXKXZDJ78"
      }
    },
    {
      "cell_type": "code",
      "source": [
        "y_first"
      ],
      "metadata": {
        "id": "n9xZKV4tEUk_"
      },
      "execution_count": null,
      "outputs": []
    },
    {
      "cell_type": "code",
      "source": [
        "#first\n",
        "ax.set_xlim(1850,2075)\n",
        "plt.plot(x_first,y_first,'-')\n",
        "\n",
        "#second\n",
        "plt.plot(x_second,y_second)\n",
        "plt.show()"
      ],
      "metadata": {
        "colab": {
          "base_uri": "https://localhost:8080/",
          "height": 432
        },
        "id": "x91CG6EUDeak",
        "outputId": "dae2c6e7-fbad-44ff-fa70-e44aa3fe1d59"
      },
      "execution_count": 23,
      "outputs": [
        {
          "output_type": "display_data",
          "data": {
            "text/plain": [
              "<Figure size 640x480 with 1 Axes>"
            ],
            "image/png": "[encoded data removed]"
          },
          "metadata": {}
        }
      ]
    },
    {
      "cell_type": "code",
      "source": [
        "plt.scatter(x,y)\n",
        "plt.plot(x_first,y_first)\n",
        "plt.plot(x_second,y_second)"
      ],
      "metadata": {
        "colab": {
          "base_uri": "https://localhost:8080/",
          "height": 450
        },
        "id": "Pq5BFI5lFtJt",
        "outputId": "35c73b7c-4609-4320-e3b5-4e497a7021b4"
      },
      "execution_count": 26,
      "outputs": [
        {
          "output_type": "execute_result",
          "data": {
            "text/plain": [
              "[<matplotlib.lines.Line2D at 0x7f17a2cc20b0>]"
            ]
          },
          "metadata": {},
          "execution_count": 26
        },
        {
          "output_type": "display_data",
          "data": {
            "text/plain": [
              "<Figure size 640x480 with 1 Axes>"
            ],
            "image/png": "[encoded data removed]"
          },
          "metadata": {}
        }
      ]
    },
    {
      "cell_type": "markdown",
      "source": [
        "Anyway, my question is which data should I use to predict in 2050, all or only recent data? If you have any suggests, feel free to comment. Many thanks for reading this notebook.  "
      ],
      "metadata": {
        "id": "WDQHXu9DGXIj"
      }
    }
  ]
}